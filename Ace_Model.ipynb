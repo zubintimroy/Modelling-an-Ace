{
 "cells": [
  {
   "cell_type": "markdown",
   "metadata": {},
   "source": [
    "## Modelling an Ace\n",
    "The juptyer notebook looks at some tennis datasets taken from [The Match Charting Project](https://github.com/JeffSackmann/tennis_MatchChartingProject) and investigates factors that determine an ace. (An ace is defined as a winning serve that is not touched by the receiver). These factors are then used in a supervised learning classification algorithm to predict if a serve would be an ace. All packages needed can be found in the requirement.txt file."
   ]
  },
  {
   "cell_type": "markdown",
   "metadata": {},
   "source": [
    "-The first step is to connect to the datasets and import the dataset into a panda"
   ]
  },
  {
   "cell_type": "code",
   "execution_count": null,
   "metadata": {
    "tags": []
   },
   "outputs": [],
   "source": [
    "import pandas as pd\n",
    "import requests\n",
    "import io\n",
    "import matplotlib.pyplot as plt\n",
    "    \n",
    "# Downloading the csv file from Match Charting Project GitHub account into pandas\n",
    "\n",
    "#Female Serve Dataset\n",
    "url = \"https://raw.githubusercontent.com/JeffSackmann/tennis_MatchChartingProject/master/charting-w-stats-ServeBasics.csv\"\n",
    "df = pd.read_csv(url,error_bad_lines=False)\n",
    "\n",
    "#Male Serve Dataset\n",
    "url_male = 'https://raw.githubusercontent.com/JeffSackmann/tennis_MatchChartingProject/master/charting-m-stats-ServeBasics.csv'\n",
    "df_male = pd.read_csv(url_male, usecols=range(11),skip_blank_lines=True)\n",
    "\n",
    "#Female Point by Point Breakdown\n",
    "url_points = 'https://raw.githubusercontent.com/JeffSackmann/tennis_MatchChartingProject/master/charting-w-points.csv' \n",
    "df_points = pd.read_csv(url_points,error_bad_lines=False,encoding='latin-1')\n",
    "\n",
    "#Male Point by Point Breakdown\n",
    "url_male_points = 'https://raw.githubusercontent.com/JeffSackmann/tennis_MatchChartingProject/master/charting-m-points.csv' \n",
    "df_male_points = pd.read_csv(url_male_points,error_bad_lines=False,encoding='latin-1')\n"
   ]
  },
  {
   "cell_type": "markdown",
   "metadata": {},
   "source": [
    "Next we want to see what these datasets contains and how the data is structured."
   ]
  },
  {
   "cell_type": "code",
   "execution_count": 2,
   "metadata": {},
   "outputs": [
    {
     "data": {
      "text/html": [
       "<div>\n",
       "<style scoped>\n",
       "    .dataframe tbody tr th:only-of-type {\n",
       "        vertical-align: middle;\n",
       "    }\n",
       "\n",
       "    .dataframe tbody tr th {\n",
       "        vertical-align: top;\n",
       "    }\n",
       "\n",
       "    .dataframe thead th {\n",
       "        text-align: right;\n",
       "    }\n",
       "</style>\n",
       "<table border=\"1\" class=\"dataframe\">\n",
       "  <thead>\n",
       "    <tr style=\"text-align: right;\">\n",
       "      <th></th>\n",
       "      <th>match_id</th>\n",
       "      <th>row</th>\n",
       "      <th>pts</th>\n",
       "      <th>pts_won</th>\n",
       "      <th>aces</th>\n",
       "      <th>unret</th>\n",
       "      <th>forced_err</th>\n",
       "      <th>pts_won_lte_3_shots</th>\n",
       "      <th>wide</th>\n",
       "      <th>body</th>\n",
       "      <th>t</th>\n",
       "    </tr>\n",
       "  </thead>\n",
       "  <tbody>\n",
       "    <tr>\n",
       "      <th>0</th>\n",
       "      <td>20070901-W-US_Open-R32-Agnieszka_Radwanska-Mar...</td>\n",
       "      <td>1 Total</td>\n",
       "      <td>82</td>\n",
       "      <td>43</td>\n",
       "      <td>1</td>\n",
       "      <td>1</td>\n",
       "      <td>2</td>\n",
       "      <td>21</td>\n",
       "      <td>18</td>\n",
       "      <td>38</td>\n",
       "      <td>26</td>\n",
       "    </tr>\n",
       "    <tr>\n",
       "      <th>1</th>\n",
       "      <td>20070901-W-US_Open-R32-Agnieszka_Radwanska-Mar...</td>\n",
       "      <td>1 1</td>\n",
       "      <td>46</td>\n",
       "      <td>24</td>\n",
       "      <td>1</td>\n",
       "      <td>1</td>\n",
       "      <td>2</td>\n",
       "      <td>13</td>\n",
       "      <td>11</td>\n",
       "      <td>17</td>\n",
       "      <td>18</td>\n",
       "    </tr>\n",
       "    <tr>\n",
       "      <th>2</th>\n",
       "      <td>20070901-W-US_Open-R32-Agnieszka_Radwanska-Mar...</td>\n",
       "      <td>1 2</td>\n",
       "      <td>36</td>\n",
       "      <td>19</td>\n",
       "      <td>0</td>\n",
       "      <td>0</td>\n",
       "      <td>0</td>\n",
       "      <td>8</td>\n",
       "      <td>7</td>\n",
       "      <td>21</td>\n",
       "      <td>8</td>\n",
       "    </tr>\n",
       "    <tr>\n",
       "      <th>3</th>\n",
       "      <td>20070901-W-US_Open-R32-Agnieszka_Radwanska-Mar...</td>\n",
       "      <td>2 Total</td>\n",
       "      <td>76</td>\n",
       "      <td>39</td>\n",
       "      <td>2</td>\n",
       "      <td>3</td>\n",
       "      <td>2</td>\n",
       "      <td>14</td>\n",
       "      <td>18</td>\n",
       "      <td>35</td>\n",
       "      <td>23</td>\n",
       "    </tr>\n",
       "    <tr>\n",
       "      <th>4</th>\n",
       "      <td>20070901-W-US_Open-R32-Agnieszka_Radwanska-Mar...</td>\n",
       "      <td>2 1</td>\n",
       "      <td>50</td>\n",
       "      <td>33</td>\n",
       "      <td>2</td>\n",
       "      <td>3</td>\n",
       "      <td>2</td>\n",
       "      <td>13</td>\n",
       "      <td>13</td>\n",
       "      <td>16</td>\n",
       "      <td>21</td>\n",
       "    </tr>\n",
       "  </tbody>\n",
       "</table>\n",
       "</div>"
      ],
      "text/plain": [
       "                                            match_id      row  pts  pts_won  \\\n",
       "0  20070901-W-US_Open-R32-Agnieszka_Radwanska-Mar...  1 Total   82       43   \n",
       "1  20070901-W-US_Open-R32-Agnieszka_Radwanska-Mar...      1 1   46       24   \n",
       "2  20070901-W-US_Open-R32-Agnieszka_Radwanska-Mar...      1 2   36       19   \n",
       "3  20070901-W-US_Open-R32-Agnieszka_Radwanska-Mar...  2 Total   76       39   \n",
       "4  20070901-W-US_Open-R32-Agnieszka_Radwanska-Mar...      2 1   50       33   \n",
       "\n",
       "   aces  unret  forced_err  pts_won_lte_3_shots  wide  body   t  \n",
       "0     1      1           2                   21    18    38  26  \n",
       "1     1      1           2                   13    11    17  18  \n",
       "2     0      0           0                    8     7    21   8  \n",
       "3     2      3           2                   14    18    35  23  \n",
       "4     2      3           2                   13    13    16  21  "
      ]
     },
     "execution_count": 2,
     "metadata": {},
     "output_type": "execute_result"
    }
   ],
   "source": [
    "df.head()"
   ]
  },
  {
   "cell_type": "code",
   "execution_count": 3,
   "metadata": {},
   "outputs": [
    {
     "data": {
      "text/html": [
       "<div>\n",
       "<style scoped>\n",
       "    .dataframe tbody tr th:only-of-type {\n",
       "        vertical-align: middle;\n",
       "    }\n",
       "\n",
       "    .dataframe tbody tr th {\n",
       "        vertical-align: top;\n",
       "    }\n",
       "\n",
       "    .dataframe thead th {\n",
       "        text-align: right;\n",
       "    }\n",
       "</style>\n",
       "<table border=\"1\" class=\"dataframe\">\n",
       "  <thead>\n",
       "    <tr style=\"text-align: right;\">\n",
       "      <th></th>\n",
       "      <th>match_id</th>\n",
       "      <th>Pt</th>\n",
       "      <th>Set1</th>\n",
       "      <th>Set2</th>\n",
       "      <th>Gm1</th>\n",
       "      <th>Gm2</th>\n",
       "      <th>Pts</th>\n",
       "      <th>Gm#</th>\n",
       "      <th>TbSet</th>\n",
       "      <th>TB?</th>\n",
       "      <th>...</th>\n",
       "      <th>2ndIn</th>\n",
       "      <th>isAce</th>\n",
       "      <th>isUnret</th>\n",
       "      <th>isRallyWinner</th>\n",
       "      <th>isForced</th>\n",
       "      <th>isUnforced</th>\n",
       "      <th>isDouble</th>\n",
       "      <th>PtWinner</th>\n",
       "      <th>isSvrWinner</th>\n",
       "      <th>rallyCount</th>\n",
       "    </tr>\n",
       "  </thead>\n",
       "  <tbody>\n",
       "    <tr>\n",
       "      <th>0</th>\n",
       "      <td>20211102-W-BJK_Cup_Finals-RR-Storm_Sanders-Eli...</td>\n",
       "      <td>1</td>\n",
       "      <td>0</td>\n",
       "      <td>0</td>\n",
       "      <td>0</td>\n",
       "      <td>0</td>\n",
       "      <td>0-0</td>\n",
       "      <td>1 (1)</td>\n",
       "      <td>1</td>\n",
       "      <td>0</td>\n",
       "      <td>...</td>\n",
       "      <td>1.0</td>\n",
       "      <td>False</td>\n",
       "      <td>False</td>\n",
       "      <td>False</td>\n",
       "      <td>False</td>\n",
       "      <td>True</td>\n",
       "      <td>False</td>\n",
       "      <td>1</td>\n",
       "      <td>1</td>\n",
       "      <td>3</td>\n",
       "    </tr>\n",
       "    <tr>\n",
       "      <th>1</th>\n",
       "      <td>20211102-W-BJK_Cup_Finals-RR-Storm_Sanders-Eli...</td>\n",
       "      <td>2</td>\n",
       "      <td>0</td>\n",
       "      <td>0</td>\n",
       "      <td>0</td>\n",
       "      <td>0</td>\n",
       "      <td>15-0</td>\n",
       "      <td>1 (2)</td>\n",
       "      <td>1</td>\n",
       "      <td>0</td>\n",
       "      <td>...</td>\n",
       "      <td>1.0</td>\n",
       "      <td>False</td>\n",
       "      <td>False</td>\n",
       "      <td>False</td>\n",
       "      <td>False</td>\n",
       "      <td>True</td>\n",
       "      <td>False</td>\n",
       "      <td>1</td>\n",
       "      <td>1</td>\n",
       "      <td>1</td>\n",
       "    </tr>\n",
       "    <tr>\n",
       "      <th>2</th>\n",
       "      <td>20211102-W-BJK_Cup_Finals-RR-Storm_Sanders-Eli...</td>\n",
       "      <td>3</td>\n",
       "      <td>0</td>\n",
       "      <td>0</td>\n",
       "      <td>0</td>\n",
       "      <td>0</td>\n",
       "      <td>30-0</td>\n",
       "      <td>1 (3)</td>\n",
       "      <td>1</td>\n",
       "      <td>0</td>\n",
       "      <td>...</td>\n",
       "      <td>NaN</td>\n",
       "      <td>False</td>\n",
       "      <td>False</td>\n",
       "      <td>True</td>\n",
       "      <td>False</td>\n",
       "      <td>False</td>\n",
       "      <td>False</td>\n",
       "      <td>2</td>\n",
       "      <td>0</td>\n",
       "      <td>6</td>\n",
       "    </tr>\n",
       "    <tr>\n",
       "      <th>3</th>\n",
       "      <td>20211102-W-BJK_Cup_Finals-RR-Storm_Sanders-Eli...</td>\n",
       "      <td>4</td>\n",
       "      <td>0</td>\n",
       "      <td>0</td>\n",
       "      <td>0</td>\n",
       "      <td>0</td>\n",
       "      <td>30-15</td>\n",
       "      <td>1 (4)</td>\n",
       "      <td>1</td>\n",
       "      <td>0</td>\n",
       "      <td>...</td>\n",
       "      <td>0.0</td>\n",
       "      <td>False</td>\n",
       "      <td>False</td>\n",
       "      <td>False</td>\n",
       "      <td>False</td>\n",
       "      <td>False</td>\n",
       "      <td>True</td>\n",
       "      <td>2</td>\n",
       "      <td>0</td>\n",
       "      <td>0</td>\n",
       "    </tr>\n",
       "    <tr>\n",
       "      <th>4</th>\n",
       "      <td>20211102-W-BJK_Cup_Finals-RR-Storm_Sanders-Eli...</td>\n",
       "      <td>5</td>\n",
       "      <td>0</td>\n",
       "      <td>0</td>\n",
       "      <td>0</td>\n",
       "      <td>0</td>\n",
       "      <td>30-30</td>\n",
       "      <td>1 (5)</td>\n",
       "      <td>1</td>\n",
       "      <td>0</td>\n",
       "      <td>...</td>\n",
       "      <td>1.0</td>\n",
       "      <td>False</td>\n",
       "      <td>False</td>\n",
       "      <td>False</td>\n",
       "      <td>False</td>\n",
       "      <td>True</td>\n",
       "      <td>False</td>\n",
       "      <td>1</td>\n",
       "      <td>1</td>\n",
       "      <td>1</td>\n",
       "    </tr>\n",
       "  </tbody>\n",
       "</table>\n",
       "<p>5 rows × 30 columns</p>\n",
       "</div>"
      ],
      "text/plain": [
       "                                            match_id  Pt  Set1  Set2  Gm1  \\\n",
       "0  20211102-W-BJK_Cup_Finals-RR-Storm_Sanders-Eli...   1     0     0    0   \n",
       "1  20211102-W-BJK_Cup_Finals-RR-Storm_Sanders-Eli...   2     0     0    0   \n",
       "2  20211102-W-BJK_Cup_Finals-RR-Storm_Sanders-Eli...   3     0     0    0   \n",
       "3  20211102-W-BJK_Cup_Finals-RR-Storm_Sanders-Eli...   4     0     0    0   \n",
       "4  20211102-W-BJK_Cup_Finals-RR-Storm_Sanders-Eli...   5     0     0    0   \n",
       "\n",
       "   Gm2    Pts    Gm# TbSet TB?  ...  2ndIn  isAce  isUnret isRallyWinner  \\\n",
       "0    0    0-0  1 (1)     1   0  ...    1.0  False    False         False   \n",
       "1    0   15-0  1 (2)     1   0  ...    1.0  False    False         False   \n",
       "2    0   30-0  1 (3)     1   0  ...    NaN  False    False          True   \n",
       "3    0  30-15  1 (4)     1   0  ...    0.0  False    False         False   \n",
       "4    0  30-30  1 (5)     1   0  ...    1.0  False    False         False   \n",
       "\n",
       "  isForced isUnforced isDouble  PtWinner  isSvrWinner  rallyCount  \n",
       "0    False       True    False         1            1           3  \n",
       "1    False       True    False         1            1           1  \n",
       "2    False      False    False         2            0           6  \n",
       "3    False      False     True         2            0           0  \n",
       "4    False       True    False         1            1           1  \n",
       "\n",
       "[5 rows x 30 columns]"
      ]
     },
     "execution_count": 3,
     "metadata": {},
     "output_type": "execute_result"
    }
   ],
   "source": [
    "df_points.head()"
   ]
  },
  {
   "cell_type": "markdown",
   "metadata": {},
   "source": [
    "We've got two types of datasets. One that returns point by point data and another that returns overall match event data. Both are speperated into 2 datasets by gender. To start with we will look at the point by point datasets."
   ]
  },
  {
   "cell_type": "markdown",
   "metadata": {},
   "source": [
    "Let's combine our two point by point datasets into one and see how common an ace is."
   ]
  },
  {
   "cell_type": "code",
   "execution_count": 5,
   "metadata": {},
   "outputs": [],
   "source": [
    "#Combines our two datasets \n",
    "\n",
    "frames = [df_points,df_male_points]\n",
    "df_combine = pd.concat(frames)"
   ]
  },
  {
   "cell_type": "code",
   "execution_count": 3,
   "metadata": {},
   "outputs": [],
   "source": [
    "def type_diff(df_pts):\n",
    "    \"\"\"\n",
    "    Calculates number of 1st and 2nd serves and number of aces\n",
    "    :param df: dataset \n",
    "    :returns value: No. 1st serves, 1st serve aces, No. of 2nd serves, 2nd serve aces\n",
    "    \"\"\"\n",
    "    total_fir_sev = df_pts[\"1stIn\"].count()\n",
    "    df_fir = df_pts[(df_pts[\"1stIn\"] == 1.0)]\n",
    "    aces_fir = df_fir[\"isAce\"].sum()\n",
    "\n",
    "    total_sec_sev = df_pts[\"2ndIn\"].count()\n",
    "    df_sec = df_pts[(df_pts[\"2ndIn\"] == 1.0)]\n",
    "    aces_sec = df_sec[\"isAce\"].sum()\n",
    "\n",
    "    return (total_fir_sev,aces_fir,total_sec_sev,aces_sec)\n"
   ]
  },
  {
   "cell_type": "code",
   "execution_count": 6,
   "metadata": {},
   "outputs": [
    {
     "name": "stdout",
     "output_type": "stream",
     "text": [
      "Overall ace percentage of dataset is: 4.988293284041898\n"
     ]
    }
   ],
   "source": [
    "overall_ace = type_diff(df_combine)\n",
    "print(\"Overall ace percentage of dataset is: \" + str(100*(overall_ace[1]+overall_ace[3])/(overall_ace[0] + overall_ace[2])))"
   ]
  },
  {
   "cell_type": "markdown",
   "metadata": {},
   "source": [
    "This gives us a baseline for how likely an ace is."
   ]
  },
  {
   "cell_type": "markdown",
   "metadata": {},
   "source": [
    "The first factor we can investigate is first vs second serve"
   ]
  },
  {
   "cell_type": "code",
   "execution_count": 7,
   "metadata": {},
   "outputs": [
    {
     "name": "stdout",
     "output_type": "stream",
     "text": [
      "first serve ace percentage is: 6.6153941288377105\n",
      "second serve ace percentage is: 0.6783210269883124\n"
     ]
    }
   ],
   "source": [
    "print(\"first serve ace percentage is: \" + str(100*(overall_ace[1])/(overall_ace[0])))\n",
    "print(\"second serve ace percentage is: \" + str(100*(overall_ace[3])/(overall_ace[2])))"
   ]
  },
  {
   "cell_type": "markdown",
   "metadata": {},
   "source": [
    "Next let's investigate if there is a difference between male and female. "
   ]
  },
  {
   "cell_type": "code",
   "execution_count": 8,
   "metadata": {},
   "outputs": [],
   "source": [
    "def gender_diff(df):\n",
    "    \"\"\"\n",
    "    Calculates total aces and total serves\n",
    "    :param df: dataset \n",
    "    :returns value: No. of Aces, No. of Serves\n",
    "    \"\"\"\n",
    "    total_fir_sev = df[\"1stIn\"].count()\n",
    "    df_fir = df[(df[\"1stIn\"] == 1.0)]\n",
    "    aces_fir = df_fir[\"isAce\"].sum()\n",
    "\n",
    "    total_sec_sev = df[\"2ndIn\"].count()\n",
    "    df_sec = df[(df[\"2ndIn\"] == 1.0)]\n",
    "    aces_sec = df_sec[\"isAce\"].sum()\n",
    "\n",
    "    total_aces = aces_sec + aces_fir\n",
    "    total_serve = total_fir_sev + total_sec_sev\n",
    "    ace_per = 100*(total_aces/total_serve)\n",
    "\n",
    "    return (ace_per)"
   ]
  },
  {
   "cell_type": "code",
   "execution_count": 9,
   "metadata": {},
   "outputs": [
    {
     "data": {
      "image/png": "[encoded data removed]",
      "text/plain": [
       "<Figure size 432x288 with 1 Axes>"
      ]
     },
     "metadata": {
      "needs_background": "light"
     },
     "output_type": "display_data"
    }
   ],
   "source": [
    "#Plots difference in Gender for Ace %\n",
    "\n",
    "Gender = [\"Female\", \"Male\"]\n",
    "Ratio_per_gender = [gender_diff(df_points),gender_diff(df_male_points)]\n",
    "\n",
    "for index, value in enumerate(Ratio_per_gender):\n",
    "    plt.text(index - 0.1, value -1.5, '{:.2f}'.format(value), fontsize = 16, color = 'white', weight = 'bold')\n",
    "\n",
    "New_Colors = ['green','blue']\n",
    "plt.bar(Gender, Ratio_per_gender, color=New_Colors)\n",
    "plt.title('Gender vs Ace %', fontsize=16)\n",
    "plt.xlabel('Gender', fontsize=16)\n",
    "plt.ylabel('Ace %', fontsize=16)\n",
    "plt.grid(True)\n",
    "#plt.savefig(\"Gender_Bar_Chart.jpg\", quality = 95)\n",
    "plt.show()"
   ]
  },
  {
   "cell_type": "markdown",
   "metadata": {},
   "source": [
    "This tells us that for any given point a male is almost 2 times more likely to serve an ace vs a female. However how does this track on a per player per match basis. In order to investigate that we use a second set of data that returns us aggregated statistics on a per match basis rather than per point. And we then plot a box a whisker plot to see the difference per player"
   ]
  },
  {
   "cell_type": "code",
   "execution_count": 10,
   "metadata": {},
   "outputs": [],
   "source": [
    "def percent(df):\n",
    "    \"\"\"\n",
    "    Calculates % of aces, t, wide and body serves\n",
    "    :param df: dataset \n",
    "    :returns df: Adds additional columns % of aces, serves for t, wide and body serves\n",
    "    \"\"\"\n",
    "    df[\"t_%\"] = df[\"t\"]/df[\"pts\"]\n",
    "    df[\"body_%\"] = df[\"body\"]/df[\"pts\"]\n",
    "    df[\"wide_%\"] = df[\"wide\"]/df[\"pts\"]\n",
    "    df[\"aces_%\"] = df[\"aces\"]/df[\"pts\"]\n",
    "    df = df[(df[\"row\"] == \"1 Total\") | (df[\"row\"] == \"2 Total\")]\n",
    "    df = df.drop([\"unret\",\"forced_err\",\"pts_won_lte_3_shots\"],axis=1)\n",
    "\n",
    "    return df"
   ]
  },
  {
   "cell_type": "code",
   "execution_count": 11,
   "metadata": {},
   "outputs": [
    {
     "data": {
      "image/png": "[encoded data removed]",
      "text/plain": [
       "<Figure size 432x288 with 1 Axes>"
      ]
     },
     "metadata": {
      "needs_background": "light"
     },
     "output_type": "display_data"
    },
    {
     "name": "stdout",
     "output_type": "stream",
     "text": [
      "count    354800.000000\n",
      "mean          4.392531\n",
      "std           4.501812\n",
      "min           0.000000\n",
      "25%           1.294539\n",
      "50%           3.278689\n",
      "75%           6.264077\n",
      "max          40.625000\n",
      "Name: aces_%, dtype: float64 count    462600.000000\n",
      "mean          8.028428\n",
      "std           6.262369\n",
      "min           0.000000\n",
      "25%           3.529412\n",
      "50%           6.722689\n",
      "75%          11.111111\n",
      "max          62.500000\n",
      "Name: aces_%, dtype: float64\n"
     ]
    }
   ],
   "source": [
    "serve_fem = percent(df)\n",
    "serve_male = percent(df_male)\n",
    "\n",
    "female = 100*serve_fem[\"aces_%\"]\n",
    "male = 100*serve_male[\"aces_%\"]\n",
    "\n",
    "plt.grid(True)\n",
    "plt.title('Gender vs Ace %', fontsize=16)\n",
    "plt.xlabel('Gender', fontsize=16)\n",
    "plt.ylabel('Ace %', fontsize=16)\n",
    "#plt.savefig(\"Gender_Box_Plot.jpg\", quality = 95)\n",
    "plt.boxplot ([female,male], labels = [\"Female\", \"Male\"], widths =0.25, showfliers=False)\n",
    "plt.show()\n",
    "\n",
    "print(100*serve_fem[\"aces_%\"].describe(),100*serve_male[\"aces_%\"].describe())"
   ]
  },
  {
   "cell_type": "markdown",
   "metadata": {},
   "source": [
    "This result although not the purpose of this notebook is really intresting. And it would be intresting to add serve speed into this to see if that is the underlying factor for the difference between male and female ace % rates or if there are other factors at play. However this data is not easily avialable so for the time being we will use gender as another one of our factors for our algorithm along with 1st or 2nd serve."
   ]
  },
  {
   "cell_type": "markdown",
   "metadata": {},
   "source": [
    "Next we will look at the type of serve. For this the point by point datasets already categorises serves into 3 types. T, body and wide serves"
   ]
  },
  {
   "cell_type": "code",
   "execution_count": 2,
   "metadata": {},
   "outputs": [],
   "source": [
    "def serve_dir(df,serve_type):\n",
    "    \"\"\"\n",
    "    Calculates ace % for a given serve type\n",
    "    :param df: dataset \n",
    "    :serve_type: Serve type: 6 = T, 5 = Body and 4 = Wide\n",
    "    :returns value: Returns Ace %\n",
    "    \"\"\"\n",
    "    dir_tot = df[\"1st\"].str.count(serve_type).sum()+df[\"2nd\"].str.count(serve_type).sum()\n",
    "\n",
    "    fir_ace = df[(df[\"isAce\"] == True) & (df[\"1stIn\"] == 1.0)]\n",
    "    fir_ace_tot = fir_ace[\"1st\"].str.count(serve_type).sum()\n",
    "\n",
    "    sec_ace = df[(df[\"isAce\"] == True) & (df[\"2ndIn\"] == 1.0)]\n",
    "    sec_ace_tot = sec_ace[\"2nd\"].str.count(serve_type).sum()\n",
    "\n",
    "    ace_per = (fir_ace_tot + sec_ace_tot)/dir_tot\n",
    "\n",
    "    return (100*ace_per) "
   ]
  },
  {
   "cell_type": "code",
   "execution_count": 13,
   "metadata": {},
   "outputs": [
    {
     "data": {
      "image/png": "[encoded data removed]",
      "text/plain": [
       "<Figure size 432x288 with 1 Axes>"
      ]
     },
     "metadata": {
      "needs_background": "light"
     },
     "output_type": "display_data"
    }
   ],
   "source": [
    "Serve_type = [\"T\", \"Body\", \"Wide\"]\n",
    "Ratio_per_type = [serve_dir(df_combine,\"6\"), serve_dir(df_combine,\"5\"), serve_dir(df_combine,\"4\")]\n",
    "\n",
    "Colors = ['green','blue',\"red\"]\n",
    "for index, value in enumerate(Ratio_per_type):\n",
    "    plt.text(index - 0.1, value, '{:.2f}'.format(value), fontsize = 16, weight = 'bold')\n",
    "plt.bar(Serve_type, Ratio_per_type, color=Colors)\n",
    "plt.title('Serve Direction vs Ace %', fontsize=16)\n",
    "plt.xlabel('Serve Direction', fontsize=16)\n",
    "plt.ylabel('Ace %', fontsize=16)\n",
    "plt.grid(True)\n",
    "#plt.savefig(\"Serve_direction_bar.jpg\", quality = 95)\n",
    "plt.show()"
   ]
  },
  {
   "cell_type": "markdown",
   "metadata": {},
   "source": [
    "We can see from the above that we have 3 significant factors. These 3 factors will all be used as inputs for creating our classification alogrithm that can determine if a serve will be an ace or not. A summary of our factors and their signifcance is given below."
   ]
  },
  {
   "cell_type": "code",
   "execution_count": 6,
   "metadata": {},
   "outputs": [
    {
     "name": "stdout",
     "output_type": "stream",
     "text": [
      "First serve ace percentage is: 6.6153941288377105\n",
      "Second serve ace percentage is: 0.6783210269883124\n",
      "Female serve ace percentage is: 3.0881177444451713\n",
      "Male serve ace percentage is: 5.839713775509554\n",
      "T body serve ace percentage is: 7.275913729259123\n",
      "Body serve ace percentage is: 0.07075080938030351\n",
      "Wide serve ace percentage is: 5.348065651135256\n"
     ]
    }
   ],
   "source": [
    "fem_list = type_diff(df_points)\n",
    "male_list = type_diff(df_male_points)\n",
    "Ratio_per_type = [serve_dir(df_combine,\"6\"), serve_dir(df_combine,\"5\"), serve_dir(df_combine,\"4\")]\n",
    "\n",
    "print(\"First serve ace percentage is: \" + str(100*(fem_list[1]+male_list[1])/(fem_list[0]+male_list[0])))\n",
    "print(\"Second serve ace percentage is: \" + str(100*(fem_list[3]+male_list[3])/(fem_list[2]+male_list[2])))\n",
    "print(\"Female serve ace percentage is: \" + str(100*(fem_list[1]+fem_list[3])/(fem_list[0]+fem_list[2])))\n",
    "print(\"Male serve ace percentage is: \" + str(100*(male_list[1]+male_list[3])/(male_list[0]+male_list[2])))\n",
    "print(\"T body serve ace percentage is: \" + str(Ratio_per_type[0]))\n",
    "print(\"Body serve ace percentage is: \" + str(Ratio_per_type[1]))\n",
    "print(\"Wide serve ace percentage is: \" + str(Ratio_per_type[2]))"
   ]
  },
  {
   "cell_type": "markdown",
   "metadata": {},
   "source": [
    "|  | Serve Type | Serve Type| Gender | Gender | Serve Direction | Serve Direction | Serve Direction |\n",
    "| --- | --- | --- | --- | --- | --- | --- | --- |\n",
    "| | 1st | 2nd | Female | Male | T | Body | Wide |\n",
    "| Ace % | 6.62 | 0.68 | 3.09 | 5.84 | 7.28 | 0.07 | 5.35 |\n",
    "| Factor difference | 9.74 |  | 1.89 |  | 104.00 | |  |"
   ]
  },
  {
   "cell_type": "code",
   "execution_count": null,
   "metadata": {},
   "outputs": [],
   "source": [
    "#import sys\n",
    "#!{sys.executable} -m pip install xgboost"
   ]
  },
  {
   "cell_type": "markdown",
   "metadata": {},
   "source": [
    "We will use xgboost machine learning package. There are several available however because xgboost can deal with N/A it makes it an ideal choice.  "
   ]
  },
  {
   "cell_type": "code",
   "execution_count": 2,
   "metadata": {},
   "outputs": [],
   "source": [
    "from xgboost import XGBClassifier\n",
    "import numpy as np"
   ]
  },
  {
   "cell_type": "markdown",
   "metadata": {},
   "source": [
    "The first step is structuring our dataset in a format that is useable by our xgboost algorithm and such that it only contains are variables of intrest and our outcome."
   ]
  },
  {
   "cell_type": "code",
   "execution_count": null,
   "metadata": {},
   "outputs": [],
   "source": [
    "#Select the 3 factors and if the point was an ace or not from our dataset\n",
    "df_new = df_points[[\"1st\",\"1stIn\",\"2nd\",\"2ndIn\",\"isAce\"]]\n",
    "df_new_male = df_male_points[[\"1st\",\"1stIn\",\"2nd\",\"2ndIn\",\"isAce\"]]\n",
    "\n",
    "\n",
    "#create a new column of gender in both datasets\n",
    "df_new_male[\"gender\"] = 1.0 \n",
    "df_new[\"gender\"] = 2.0\n",
    "\n",
    "#Combine both datasets\n",
    "frames = [df_new,df_new_male]\n",
    "df_combine = pd.concat(frames)\n",
    "\n",
    "\n",
    "#Type of serve is within \"1st\" & \"2nd\" column but needs to be taken from the first character of these columns\n",
    "conditions = [(df_combine[\"1st\"].str.contains(\"4\")),(df_combine[\"1st\"].str.contains(\"5\")),(df_combine[\"1st\"].str.contains(\"6\"))]\n",
    "values = [\"4\",\"5\",\"6\"]\n",
    "conditions_2 = [(df_combine[\"2nd\"].str.contains(\"4\",na=False)),(df_combine[\"2nd\"].str.contains(\"5\",na=False)),(df_combine[\"2nd\"].str.contains(\"6\",na=False))]\n",
    "\n",
    "#Select only the first character from the \"1st\" & \"2nd\" columns\n",
    "df_unclean = df_combine\n",
    "df_unclean[\"1st_type\"] = np.select(conditions,values)\n",
    "df_unclean[\"2nd_type\"] = np.select(conditions_2,values)\n",
    "\n",
    "#Returns our cleaned data in a format that is useable by xgboost\n",
    "df_graph = df_unclean[[\"1stIn\",\"2ndIn\",\"gender\",\"1st_type\",\"2nd_type\",\"isAce\"]]\n",
    "\n",
    "#Converts column to numbers\n",
    "df_graph['1st_type'] = pd.to_numeric(df_graph['1st_type'])\n",
    "df_graph['2nd_type'] = pd.to_numeric(df_graph['2nd_type'])"
   ]
  },
  {
   "cell_type": "markdown",
   "metadata": {},
   "source": [
    "Our dataset is now clean and in a format that is almost ready to be inserted into our algorithm"
   ]
  },
  {
   "cell_type": "code",
   "execution_count": 4,
   "metadata": {},
   "outputs": [
    {
     "data": {
      "text/html": [
       "<div>\n",
       "<style scoped>\n",
       "    .dataframe tbody tr th:only-of-type {\n",
       "        vertical-align: middle;\n",
       "    }\n",
       "\n",
       "    .dataframe tbody tr th {\n",
       "        vertical-align: top;\n",
       "    }\n",
       "\n",
       "    .dataframe thead th {\n",
       "        text-align: right;\n",
       "    }\n",
       "</style>\n",
       "<table border=\"1\" class=\"dataframe\">\n",
       "  <thead>\n",
       "    <tr style=\"text-align: right;\">\n",
       "      <th></th>\n",
       "      <th>1stIn</th>\n",
       "      <th>2ndIn</th>\n",
       "      <th>gender</th>\n",
       "      <th>1st_type</th>\n",
       "      <th>2nd_type</th>\n",
       "      <th>isAce</th>\n",
       "    </tr>\n",
       "  </thead>\n",
       "  <tbody>\n",
       "    <tr>\n",
       "      <th>0</th>\n",
       "      <td>0</td>\n",
       "      <td>1.0</td>\n",
       "      <td>2.0</td>\n",
       "      <td>6</td>\n",
       "      <td>6</td>\n",
       "      <td>False</td>\n",
       "    </tr>\n",
       "    <tr>\n",
       "      <th>1</th>\n",
       "      <td>0</td>\n",
       "      <td>1.0</td>\n",
       "      <td>2.0</td>\n",
       "      <td>4</td>\n",
       "      <td>5</td>\n",
       "      <td>False</td>\n",
       "    </tr>\n",
       "    <tr>\n",
       "      <th>2</th>\n",
       "      <td>1</td>\n",
       "      <td>NaN</td>\n",
       "      <td>2.0</td>\n",
       "      <td>6</td>\n",
       "      <td>0</td>\n",
       "      <td>False</td>\n",
       "    </tr>\n",
       "    <tr>\n",
       "      <th>3</th>\n",
       "      <td>0</td>\n",
       "      <td>0.0</td>\n",
       "      <td>2.0</td>\n",
       "      <td>6</td>\n",
       "      <td>4</td>\n",
       "      <td>False</td>\n",
       "    </tr>\n",
       "    <tr>\n",
       "      <th>4</th>\n",
       "      <td>0</td>\n",
       "      <td>1.0</td>\n",
       "      <td>2.0</td>\n",
       "      <td>6</td>\n",
       "      <td>5</td>\n",
       "      <td>False</td>\n",
       "    </tr>\n",
       "  </tbody>\n",
       "</table>\n",
       "</div>"
      ],
      "text/plain": [
       "   1stIn  2ndIn  gender  1st_type  2nd_type  isAce\n",
       "0      0    1.0     2.0         6         6  False\n",
       "1      0    1.0     2.0         4         5  False\n",
       "2      1    NaN     2.0         6         0  False\n",
       "3      0    0.0     2.0         6         4  False\n",
       "4      0    1.0     2.0         6         5  False"
      ]
     },
     "execution_count": 4,
     "metadata": {},
     "output_type": "execute_result"
    }
   ],
   "source": [
    "df_graph.head()"
   ]
  },
  {
   "cell_type": "markdown",
   "metadata": {},
   "source": [
    "The last step is to seperate out the dataset into our input data with the three factors we are investigating and output dataset with True or False for if the point was an Ace."
   ]
  },
  {
   "cell_type": "code",
   "execution_count": 5,
   "metadata": {},
   "outputs": [],
   "source": [
    "#Input data\n",
    "df_input_xg = df_graph[[\"1stIn\",\"2ndIn\",\"gender\",\"1st_type\",\"2nd_type\"]]\n",
    "\n",
    "#Output data\n",
    "result_xg = df_graph[\"isAce\"]"
   ]
  },
  {
   "cell_type": "markdown",
   "metadata": {},
   "source": [
    "We then split our input and output further into training and test datasets using a common 80 20 split"
   ]
  },
  {
   "cell_type": "code",
   "execution_count": 6,
   "metadata": {},
   "outputs": [],
   "source": [
    "from sklearn.model_selection import train_test_split\n",
    "X_train_xg, X_test_xg, Y_train_xg, Y_test_xg = train_test_split(df_input_xg, result_xg, test_size=0.2)"
   ]
  },
  {
   "cell_type": "markdown",
   "metadata": {},
   "source": [
    "We then create a model using the training dataset. Important to note that we adjust the algorithm using the ```scale_pos_weight``` parameter as the number of aces only occurs around 5% of the time in our dataset. Without this adjustment the model we would create would be wrong. "
   ]
  },
  {
   "cell_type": "code",
   "execution_count": null,
   "metadata": {},
   "outputs": [],
   "source": [
    "model = XGBClassifier(scale_pos_weight=14)\n",
    "model.fit(X_train_xg, Y_train_xg)"
   ]
  },
  {
   "cell_type": "markdown",
   "metadata": {},
   "source": [
    "With the model created we run it against our test dataset using the outputs in the test dataset to evaluate the accuracy of our alogrithm"
   ]
  },
  {
   "cell_type": "code",
   "execution_count": 8,
   "metadata": {},
   "outputs": [],
   "source": [
    "y_pred_xg = model.predict(X_test_xg)\n",
    "predictions = [round(value) for value in y_pred_xg]"
   ]
  },
  {
   "cell_type": "code",
   "execution_count": 9,
   "metadata": {},
   "outputs": [
    {
     "name": "stdout",
     "output_type": "stream",
     "text": [
      "Accuracy: 54.16%\n"
     ]
    }
   ],
   "source": [
    "from sklearn.metrics import accuracy_score\n",
    "accuracy = accuracy_score(Y_test_xg, predictions)\n",
    "print(\"Accuracy: %.2f%%\" % (accuracy * 100.0))"
   ]
  },
  {
   "cell_type": "markdown",
   "metadata": {},
   "source": [
    "Not bad however the accuracy does not give us the full picture. We want to understand our model better and for that we use a confusion matrix."
   ]
  },
  {
   "cell_type": "code",
   "execution_count": 10,
   "metadata": {},
   "outputs": [
    {
     "name": "stdout",
     "output_type": "stream",
     "text": [
      "[[78416 75171]\n",
      " [  438 10924]]\n"
     ]
    }
   ],
   "source": [
    "from sklearn.metrics import classification_report, confusion_matrix\n",
    "print(confusion_matrix(Y_test_xg,predictions))\n",
    "#print(classification_report(Y_test_xg,predictions))"
   ]
  },
  {
   "cell_type": "code",
   "execution_count": 12,
   "metadata": {},
   "outputs": [
    {
     "name": "stdout",
     "output_type": "stream",
     "text": [
      "              precision    recall  f1-score   support\n",
      "\n",
      "       False       0.99      0.51      0.67    153587\n",
      "        True       0.13      0.96      0.22     11362\n",
      "\n",
      "   micro avg       0.54      0.54      0.54    164949\n",
      "   macro avg       0.56      0.74      0.45    164949\n",
      "weighted avg       0.93      0.54      0.64    164949\n",
      "\n"
     ]
    }
   ],
   "source": [
    "from sklearn.metrics import classification_report\n",
    "\n",
    "print(classification_report(Y_test_xg,predictions))"
   ]
  },
  {
   "cell_type": "markdown",
   "metadata": {},
   "source": [
    "We can see that on the whole the algorithm was fairly successful. With a True recall (when it's an ace how often it predicted this correctly) of 96%. However the algorithm could be improved when it comes to True precision e.g. it was only correct 13% of the time when prediciting an ace. And the false recall was low as well at 51% (when it was not an ace how often it prediced this correctly).\n",
    "\n",
    "In order to better imporve our model we would look to introduce other factors such as serve speed, spin, quality of the returned, weather conditions etc into our model. \n",
    "\n",
    "For this we would need to web scrap and incorporate another dataset into our exsisting data. "
   ]
  }
 ],
 "metadata": {
  "kernelspec": {
   "display_name": "Python 3",
   "language": "python",
   "name": "python3"
  },
  "language_info": {
   "codemirror_mode": {
    "name": "ipython",
    "version": 3
   },
   "file_extension": ".py",
   "mimetype": "text/x-python",
   "name": "python",
   "nbconvert_exporter": "python",
   "pygments_lexer": "ipython3",
   "version": "3.10.0"
  },
  "orig_nbformat": 2
 },
 "nbformat": 4,
 "nbformat_minor": 2
}
